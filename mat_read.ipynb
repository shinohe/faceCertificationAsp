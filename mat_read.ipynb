{
 "cells": [
  {
   "cell_type": "code",
   "execution_count": 1,
   "metadata": {},
   "outputs": [],
   "source": [
    "%matplotlib inline\n",
    "import matplotlib.pyplot as plt\n",
    "import numpy as np\n",
    "from mat_read import get_extract_data\n",
    "from mat_read import extract_age_data\n",
    "from mat_read import get_negative_data"
   ]
  },
  {
   "cell_type": "code",
   "execution_count": 2,
   "metadata": {},
   "outputs": [
    {
     "name": "stderr",
     "output_type": "stream",
     "text": [
      "100%|████████████████████████████████████████████████████████████████████████| 62328/62328 [00:00<00:00, 347905.20it/s]\n"
     ]
    },
    {
     "data": {
      "text/plain": [
       "Text(0.5,0,'extract_age_wiki')"
      ]
     },
     "execution_count": 2,
     "metadata": {},
     "output_type": "execute_result"
    },
    {
     "data": {
      "image/png": "[encoded data removed]",
      "text/plain": [
       "<Figure size 432x288 with 1 Axes>"
      ]
     },
     "metadata": {},
     "output_type": "display_data"
    }
   ],
   "source": [
    "# wiki\n",
    "mat_name = \"wiki\"\n",
    "mat_path = \"imdbface/{}_crop/{}.mat\".format(mat_name, mat_name)\n",
    "extract_age_wiki, extract_gender_wiki, extract_face_score_wiki, extract_full_path\\\n",
    "    =get_extract_data(mat_path, mat_name)\n",
    "    \n",
    "extract_age_wiki = np.array(extract_age_wiki)\n",
    "hist = plt.hist(extract_age_wiki, bins=np.arange(0, 100, 1), color='b')\n",
    "plt.xlabel(\"extract_age_wiki\")"
   ]
  },
  {
   "cell_type": "code",
   "execution_count": 3,
   "metadata": {
    "scrolled": true
   },
   "outputs": [
    {
     "name": "stderr",
     "output_type": "stream",
     "text": [
      "100%|██████████████████████████████████████████████████████████████████████| 460723/460723 [00:01<00:00, 352777.99it/s]\n"
     ]
    },
    {
     "data": {
      "text/plain": [
       "Text(0.5,0,'extract_age_imdb')"
      ]
     },
     "execution_count": 3,
     "metadata": {},
     "output_type": "execute_result"
    },
    {
     "data": {
      "image/png": "[encoded data removed]",
      "text/plain": [
       "<Figure size 432x288 with 1 Axes>"
      ]
     },
     "metadata": {},
     "output_type": "display_data"
    }
   ],
   "source": [
    "# imdb\n",
    "mat_name = \"imdb\"\n",
    "mat_path = \"imdbface/{}_crop/{}.mat\".format(mat_name, mat_name)\n",
    "extract_age_imdb, extract_gender_imdb, extract_face_score_imdb, extract_full_path_imdb\\\n",
    "    =get_extract_data(mat_path, mat_name)\n",
    "\n",
    "extract_age_imdb = np.array(extract_age_imdb)\n",
    "hist = plt.hist(extract_age_imdb, bins=np.arange(0, 100, 1), color='b')\n",
    "plt.xlabel(\"extract_age_imdb\")"
   ]
  },
  {
   "cell_type": "code",
   "execution_count": 4,
   "metadata": {},
   "outputs": [
    {
     "name": "stderr",
     "output_type": "stream",
     "text": [
      "100%|███████████████████████████████████████████████████████████████████████| 62328/62328 [00:00<00:00, 1393250.62it/s]\n"
     ]
    },
    {
     "data": {
      "text/plain": [
       "Text(0.5,0,'negative_age_wiki')"
      ]
     },
     "execution_count": 4,
     "metadata": {},
     "output_type": "execute_result"
    },
    {
     "data": {
      "image/png": "[encoded data removed]",
      "text/plain": [
       "<Figure size 432x288 with 1 Axes>"
      ]
     },
     "metadata": {},
     "output_type": "display_data"
    }
   ],
   "source": [
    "# wiki negative\n",
    "mat_name = \"wiki\"\n",
    "mat_path = \"imdbface/{}_crop/{}.mat\".format(mat_name, mat_name)\n",
    "negative_age_wiki, negative_gender_wiki, negative_face_score_wiki, negative_full_path\\\n",
    "    =get_negative_data(mat_path, mat_name)\n",
    "    \n",
    "negative_age_wiki = np.array(negative_age_wiki)\n",
    "hist = plt.hist(negative_age_wiki, bins=np.arange(0, 100, 1), color='b')\n",
    "plt.xlabel(\"negative_age_wiki\")"
   ]
  },
  {
   "cell_type": "code",
   "execution_count": 5,
   "metadata": {},
   "outputs": [
    {
     "data": {
      "text/plain": [
       "Text(0.5,0,'wiki&imdb')"
      ]
     },
     "execution_count": 5,
     "metadata": {},
     "output_type": "execute_result"
    },
    {
     "data": {
      "image/png": "[encoded data removed]",
      "text/plain": [
       "<Figure size 432x288 with 1 Axes>"
      ]
     },
     "metadata": {},
     "output_type": "display_data"
    }
   ],
   "source": [
    "# wiki&imdb\n",
    "age_merge = np.concatenate([extract_age_imdb, extract_age_wiki], axis=0)\n",
    "gender_merge = np.concatenate([extract_gender_imdb, extract_gender_wiki], axis=0)\n",
    "face_score_merge = np.concatenate([extract_face_score_imdb, extract_face_score_wiki], axis=0)\n",
    "full_path_merge = np.concatenate([extract_full_path_imdb, extract_full_path], axis=0)\n",
    "\n",
    "hist = plt.hist(age_merge, bins=np.arange(0, 100, 1), color='b')\n",
    "plt.xlabel(\"wiki&imdb\")\n"
   ]
  },
  {
   "cell_type": "code",
   "execution_count": 6,
   "metadata": {},
   "outputs": [
    {
     "name": "stderr",
     "output_type": "stream",
     "text": [
      "100%|██████████████████████████████████████████████████████████████████████| 209990/209990 [00:00<00:00, 855455.80it/s]\n"
     ]
    },
    {
     "data": {
      "text/plain": [
       "Text(0.5,0,'wiki&imdb')"
      ]
     },
     "execution_count": 6,
     "metadata": {},
     "output_type": "execute_result"
    },
    {
     "data": {
      "image/png": "[encoded data removed]",
      "text/plain": [
       "<Figure size 432x288 with 1 Axes>"
      ]
     },
     "metadata": {},
     "output_type": "display_data"
    }
   ],
   "source": [
    "# wiki&imdb && upper limit 1000\n",
    "age_limit, gender_limit, face_score_limit, full_path_merge = extract_age_data(age_merge, gender_merge, face_score_merge, full_path_merge, 1000)\n",
    "hist = plt.hist(age_limit, bins=np.arange(0, 100, 1), color='b')\n",
    "plt.xlabel(\"wiki&imdb\")"
   ]
  },
  {
   "cell_type": "code",
   "execution_count": null,
   "metadata": {},
   "outputs": [],
   "source": []
  }
 ],
 "metadata": {
  "kernelspec": {
   "display_name": "Python 3",
   "language": "python",
   "name": "python3"
  },
  "language_info": {
   "codemirror_mode": {
    "name": "ipython",
    "version": 3
   },
   "file_extension": ".py",
   "mimetype": "text/x-python",
   "name": "python",
   "nbconvert_exporter": "python",
   "pygments_lexer": "ipython3",
   "version": "3.6.2"
  }
 },
 "nbformat": 4,
 "nbformat_minor": 2
}
